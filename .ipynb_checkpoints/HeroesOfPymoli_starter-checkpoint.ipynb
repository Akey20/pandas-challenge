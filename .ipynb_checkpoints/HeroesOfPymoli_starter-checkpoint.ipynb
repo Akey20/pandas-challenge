{
 "cells": [
  {
   "cell_type": "markdown",
   "metadata": {},
   "source": [
    "### Note\n",
    "* Instructions have been included for each segment. You do not have to follow them exactly, but they are included to help you think through the steps."
   ]
  },
  {
   "cell_type": "code",
   "execution_count": 34,
   "metadata": {},
   "outputs": [
    {
     "data": {
      "text/html": [
       "<div>\n",
       "<style scoped>\n",
       "    .dataframe tbody tr th:only-of-type {\n",
       "        vertical-align: middle;\n",
       "    }\n",
       "\n",
       "    .dataframe tbody tr th {\n",
       "        vertical-align: top;\n",
       "    }\n",
       "\n",
       "    .dataframe thead th {\n",
       "        text-align: right;\n",
       "    }\n",
       "</style>\n",
       "<table border=\"1\" class=\"dataframe\">\n",
       "  <thead>\n",
       "    <tr style=\"text-align: right;\">\n",
       "      <th></th>\n",
       "      <th>Purchase ID</th>\n",
       "      <th>SN</th>\n",
       "      <th>Age</th>\n",
       "      <th>Gender</th>\n",
       "      <th>Item ID</th>\n",
       "      <th>Item Name</th>\n",
       "      <th>Price</th>\n",
       "    </tr>\n",
       "  </thead>\n",
       "  <tbody>\n",
       "    <tr>\n",
       "      <th>0</th>\n",
       "      <td>0</td>\n",
       "      <td>Lisim78</td>\n",
       "      <td>20</td>\n",
       "      <td>Male</td>\n",
       "      <td>108</td>\n",
       "      <td>Extraction, Quickblade Of Trembling Hands</td>\n",
       "      <td>3.53</td>\n",
       "    </tr>\n",
       "    <tr>\n",
       "      <th>1</th>\n",
       "      <td>1</td>\n",
       "      <td>Lisovynya38</td>\n",
       "      <td>40</td>\n",
       "      <td>Male</td>\n",
       "      <td>143</td>\n",
       "      <td>Frenzied Scimitar</td>\n",
       "      <td>1.56</td>\n",
       "    </tr>\n",
       "    <tr>\n",
       "      <th>2</th>\n",
       "      <td>2</td>\n",
       "      <td>Ithergue48</td>\n",
       "      <td>24</td>\n",
       "      <td>Male</td>\n",
       "      <td>92</td>\n",
       "      <td>Final Critic</td>\n",
       "      <td>4.88</td>\n",
       "    </tr>\n",
       "    <tr>\n",
       "      <th>3</th>\n",
       "      <td>3</td>\n",
       "      <td>Chamassasya86</td>\n",
       "      <td>24</td>\n",
       "      <td>Male</td>\n",
       "      <td>100</td>\n",
       "      <td>Blindscythe</td>\n",
       "      <td>3.27</td>\n",
       "    </tr>\n",
       "    <tr>\n",
       "      <th>4</th>\n",
       "      <td>4</td>\n",
       "      <td>Iskosia90</td>\n",
       "      <td>23</td>\n",
       "      <td>Male</td>\n",
       "      <td>131</td>\n",
       "      <td>Fury</td>\n",
       "      <td>1.44</td>\n",
       "    </tr>\n",
       "  </tbody>\n",
       "</table>\n",
       "</div>"
      ],
      "text/plain": [
       "   Purchase ID             SN  Age Gender  Item ID  \\\n",
       "0            0        Lisim78   20   Male      108   \n",
       "1            1    Lisovynya38   40   Male      143   \n",
       "2            2     Ithergue48   24   Male       92   \n",
       "3            3  Chamassasya86   24   Male      100   \n",
       "4            4      Iskosia90   23   Male      131   \n",
       "\n",
       "                                   Item Name  Price  \n",
       "0  Extraction, Quickblade Of Trembling Hands   3.53  \n",
       "1                          Frenzied Scimitar   1.56  \n",
       "2                               Final Critic   4.88  \n",
       "3                                Blindscythe   3.27  \n",
       "4                                       Fury   1.44  "
      ]
     },
     "execution_count": 34,
     "metadata": {},
     "output_type": "execute_result"
    }
   ],
   "source": [
    "# Dependencies and Setup\n",
    "import pandas as pd\n",
    "import numpy as np\n",
    "\n",
    "# File to Load (Remember to Change These)\n",
    "csv_path = \"Resources/purchase_data.csv\"\n",
    "\n",
    "# Read Purchasing File and store into Pandas data frame\n",
    "purchase_df = pd.read_csv(csv_path)\n",
    "purchase_df.head()"
   ]
  },
  {
   "cell_type": "markdown",
   "metadata": {},
   "source": [
    "## Player Count"
   ]
  },
  {
   "cell_type": "markdown",
   "metadata": {},
   "source": [
    "* Display the total number of players\n"
   ]
  },
  {
   "cell_type": "code",
   "execution_count": 35,
   "metadata": {},
   "outputs": [
    {
     "data": {
      "text/html": [
       "<div>\n",
       "<style scoped>\n",
       "    .dataframe tbody tr th:only-of-type {\n",
       "        vertical-align: middle;\n",
       "    }\n",
       "\n",
       "    .dataframe tbody tr th {\n",
       "        vertical-align: top;\n",
       "    }\n",
       "\n",
       "    .dataframe thead th {\n",
       "        text-align: right;\n",
       "    }\n",
       "</style>\n",
       "<table border=\"1\" class=\"dataframe\">\n",
       "  <thead>\n",
       "    <tr style=\"text-align: right;\">\n",
       "      <th></th>\n",
       "      <th>Player Count</th>\n",
       "    </tr>\n",
       "  </thead>\n",
       "  <tbody>\n",
       "    <tr>\n",
       "      <th>0</th>\n",
       "      <td>576</td>\n",
       "    </tr>\n",
       "  </tbody>\n",
       "</table>\n",
       "</div>"
      ],
      "text/plain": [
       "   Player Count\n",
       "0           576"
      ]
     },
     "execution_count": 35,
     "metadata": {},
     "output_type": "execute_result"
    }
   ],
   "source": [
    "player_count = len(purchase_df[\"SN\"].unique())\n",
    "summary0_df=pd.DataFrame({\"Player Count\":[player_count]})\n",
    "#summary0_df.index = None\n",
    "summary0_df"
   ]
  },
  {
   "cell_type": "markdown",
   "metadata": {},
   "source": [
    "## Purchasing Analysis (Total)"
   ]
  },
  {
   "cell_type": "markdown",
   "metadata": {},
   "source": [
    "* Run basic calculations to obtain number of unique items, average price, etc.\n",
    "\n",
    "\n",
    "* Create a summary data frame to hold the results\n",
    "\n",
    "\n",
    "* Optional: give the displayed data cleaner formatting\n",
    "\n",
    "\n",
    "* Display the summary data frame\n"
   ]
  },
  {
   "cell_type": "code",
   "execution_count": 36,
   "metadata": {
    "scrolled": true
   },
   "outputs": [
    {
     "data": {
      "text/html": [
       "<div>\n",
       "<style scoped>\n",
       "    .dataframe tbody tr th:only-of-type {\n",
       "        vertical-align: middle;\n",
       "    }\n",
       "\n",
       "    .dataframe tbody tr th {\n",
       "        vertical-align: top;\n",
       "    }\n",
       "\n",
       "    .dataframe thead th {\n",
       "        text-align: right;\n",
       "    }\n",
       "</style>\n",
       "<table border=\"1\" class=\"dataframe\">\n",
       "  <thead>\n",
       "    <tr style=\"text-align: right;\">\n",
       "      <th></th>\n",
       "      <th>Unique Items</th>\n",
       "      <th>Average Price</th>\n",
       "      <th>Purchases</th>\n",
       "      <th>Total Revenue</th>\n",
       "      <th>index</th>\n",
       "    </tr>\n",
       "  </thead>\n",
       "  <tbody>\n",
       "    <tr>\n",
       "      <th>0</th>\n",
       "      <td>179</td>\n",
       "      <td>$3.05</td>\n",
       "      <td>780</td>\n",
       "      <td>$2379.77</td>\n",
       "      <td>Summary</td>\n",
       "    </tr>\n",
       "  </tbody>\n",
       "</table>\n",
       "</div>"
      ],
      "text/plain": [
       "   Unique Items Average Price  Purchases Total Revenue    index\n",
       "0           179         $3.05        780      $2379.77  Summary"
      ]
     },
     "execution_count": 36,
     "metadata": {},
     "output_type": "execute_result"
    }
   ],
   "source": [
    "#number of unique games(items)\n",
    "unique_items = len(purchase_df[\"Item Name\"].unique())\n",
    "\n",
    "#calculate # of purchases\n",
    "purchases = len(purchase_df[\"Purchase ID\"]),\n",
    "               \n",
    "#calculate total revenue \n",
    "total_revenue=(purchase_df[\"Price\"].sum())\n",
    "\n",
    "#calculate avg price\n",
    "avg_price = total_revenue/purchases\n",
    "\n",
    "#add summary (add , to total rev)\n",
    "summary1_df = pd.DataFrame({\"Unique Items\" : [unique_items],\n",
    "                           \"Average Price\": avg_price,\n",
    "                           \"Purchases\": purchases,\n",
    "                           \"Total Revenue\": total_revenue,\n",
    "                           \"index\": [\"Summary\"]})\n",
    "summary1_df[\"Average Price\"]=summary1_df[\"Average Price\"].map(\"${:.2f}\".format)\n",
    "summary1_df[\"Total Revenue\"]=summary1_df[\"Total Revenue\"].map(\"${:.2f}\".format)\n",
    "summary1_df"
   ]
  },
  {
   "cell_type": "code",
   "execution_count": 22,
   "metadata": {},
   "outputs": [
    {
     "data": {
      "text/html": [
       "<div>\n",
       "<style scoped>\n",
       "    .dataframe tbody tr th:only-of-type {\n",
       "        vertical-align: middle;\n",
       "    }\n",
       "\n",
       "    .dataframe tbody tr th {\n",
       "        vertical-align: top;\n",
       "    }\n",
       "\n",
       "    .dataframe thead th {\n",
       "        text-align: right;\n",
       "    }\n",
       "</style>\n",
       "<table border=\"1\" class=\"dataframe\">\n",
       "  <thead>\n",
       "    <tr style=\"text-align: right;\">\n",
       "      <th></th>\n",
       "      <th>Unique Items</th>\n",
       "      <th>Average Price</th>\n",
       "      <th>Purchases</th>\n",
       "      <th>Total Revenue</th>\n",
       "    </tr>\n",
       "    <tr>\n",
       "      <th>index</th>\n",
       "      <th></th>\n",
       "      <th></th>\n",
       "      <th></th>\n",
       "      <th></th>\n",
       "    </tr>\n",
       "  </thead>\n",
       "  <tbody>\n",
       "    <tr>\n",
       "      <th>Summary</th>\n",
       "      <td>179</td>\n",
       "      <td>$3.05</td>\n",
       "      <td>780</td>\n",
       "      <td>$2379.77</td>\n",
       "    </tr>\n",
       "  </tbody>\n",
       "</table>\n",
       "</div>"
      ],
      "text/plain": [
       "         Unique Items Average Price  Purchases Total Revenue\n",
       "index                                                       \n",
       "Summary           179         $3.05        780      $2379.77"
      ]
     },
     "execution_count": 22,
     "metadata": {},
     "output_type": "execute_result"
    }
   ],
   "source": [
    "summary1_df.set_index(\"index\")"
   ]
  },
  {
   "cell_type": "markdown",
   "metadata": {},
   "source": [
    "## Gender Demographics"
   ]
  },
  {
   "cell_type": "markdown",
   "metadata": {},
   "source": [
    "* Percentage and Count of Male Players\n",
    "\n",
    "\n",
    "* Percentage and Count of Female Players\n",
    "\n",
    "\n",
    "* Percentage and Count of Other / Non-Disclosed\n",
    "\n",
    "\n"
   ]
  },
  {
   "cell_type": "code",
   "execution_count": 37,
   "metadata": {},
   "outputs": [
    {
     "data": {
      "text/html": [
       "<style  type=\"text/css\" >\n",
       "</style><table id=\"T_dfcf9c18_770c_11ec_a41b_9453308a0c5c\" ><thead>    <tr>        <th class=\"blank level0\" ></th>        <th class=\"col_heading level0 col0\" >Totals</th>        <th class=\"col_heading level0 col1\" >Gender Percentages</th>    </tr>    <tr>        <th class=\"index_name level0\" >Gender</th>        <th class=\"blank\" ></th>        <th class=\"blank\" ></th>    </tr></thead><tbody>\n",
       "                <tr>\n",
       "                        <th id=\"T_dfcf9c18_770c_11ec_a41b_9453308a0c5clevel0_row0\" class=\"row_heading level0 row0\" >Male</th>\n",
       "                        <td id=\"T_dfcf9c18_770c_11ec_a41b_9453308a0c5crow0_col0\" class=\"data row0 col0\" >484</td>\n",
       "                        <td id=\"T_dfcf9c18_770c_11ec_a41b_9453308a0c5crow0_col1\" class=\"data row0 col1\" >84.03%</td>\n",
       "            </tr>\n",
       "            <tr>\n",
       "                        <th id=\"T_dfcf9c18_770c_11ec_a41b_9453308a0c5clevel0_row1\" class=\"row_heading level0 row1\" >Female</th>\n",
       "                        <td id=\"T_dfcf9c18_770c_11ec_a41b_9453308a0c5crow1_col0\" class=\"data row1 col0\" >81</td>\n",
       "                        <td id=\"T_dfcf9c18_770c_11ec_a41b_9453308a0c5crow1_col1\" class=\"data row1 col1\" >14.06%</td>\n",
       "            </tr>\n",
       "            <tr>\n",
       "                        <th id=\"T_dfcf9c18_770c_11ec_a41b_9453308a0c5clevel0_row2\" class=\"row_heading level0 row2\" >Other / Non-Disclosed</th>\n",
       "                        <td id=\"T_dfcf9c18_770c_11ec_a41b_9453308a0c5crow2_col0\" class=\"data row2 col0\" >11</td>\n",
       "                        <td id=\"T_dfcf9c18_770c_11ec_a41b_9453308a0c5crow2_col1\" class=\"data row2 col1\" >1.91%</td>\n",
       "            </tr>\n",
       "    </tbody></table>"
      ],
      "text/plain": [
       "<pandas.io.formats.style.Styler at 0x1f998ba2be0>"
      ]
     },
     "execution_count": 37,
     "metadata": {},
     "output_type": "execute_result"
    }
   ],
   "source": [
    "# group data from purchases using genders\n",
    "gender_data = purchase_df.groupby(\"Gender\")\n",
    "\n",
    "#get count unique using screen names for genders\n",
    "gender_counts = gender_data[\"SN\"].nunique()\n",
    "\n",
    "#gender_counts  #used as a check removed for production\n",
    "#calculation for genders\n",
    "gender_percentage = gender_counts/player_count * 100\n",
    "\n",
    "#gender_percentage # used as check removed for production\n",
    "\n",
    "#create df for above\n",
    "gender_demo = pd.DataFrame({\"Totals\": gender_counts, \"Gender Percentages\": gender_percentage})\n",
    "gender_demo.index.name = \"Gender\"\n",
    "gender_demo.sort_values([\"Totals\"], ascending = False).style.format({\"Gender Percentages\":\"{:.2f}%\"})"
   ]
  },
  {
   "cell_type": "markdown",
   "metadata": {},
   "source": [
    "\n",
    "## Purchasing Analysis (Gender)"
   ]
  },
  {
   "cell_type": "markdown",
   "metadata": {},
   "source": [
    "* Run basic calculations to obtain purchase count, avg. purchase price, avg. purchase total per person etc. by gender\n",
    "\n",
    "\n",
    "\n",
    "\n",
    "* Create a summary data frame to hold the results\n",
    "\n",
    "\n",
    "* Optional: give the displayed data cleaner formatting\n",
    "\n",
    "\n",
    "* Display the summary data frame"
   ]
  },
  {
   "cell_type": "code",
   "execution_count": 38,
   "metadata": {},
   "outputs": [
    {
     "data": {
      "text/html": [
       "<style  type=\"text/css\" >\n",
       "</style><table id=\"T_e751b978_770c_11ec_a760_9453308a0c5c\" ><thead>    <tr>        <th class=\"blank level0\" ></th>        <th class=\"col_heading level0 col0\" >Total Purchases</th>        <th class=\"col_heading level0 col1\" >Average Price</th>        <th class=\"col_heading level0 col2\" >Average Value</th>        <th class=\"col_heading level0 col3\" >Average Per Person</th>    </tr>    <tr>        <th class=\"index_name level0\" >Gender</th>        <th class=\"blank\" ></th>        <th class=\"blank\" ></th>        <th class=\"blank\" ></th>        <th class=\"blank\" ></th>    </tr></thead><tbody>\n",
       "                <tr>\n",
       "                        <th id=\"T_e751b978_770c_11ec_a760_9453308a0c5clevel0_row0\" class=\"row_heading level0 row0\" >Female</th>\n",
       "                        <td id=\"T_e751b978_770c_11ec_a760_9453308a0c5crow0_col0\" class=\"data row0 col0\" >113</td>\n",
       "                        <td id=\"T_e751b978_770c_11ec_a760_9453308a0c5crow0_col1\" class=\"data row0 col1\" >$3.20</td>\n",
       "                        <td id=\"T_e751b978_770c_11ec_a760_9453308a0c5crow0_col2\" class=\"data row0 col2\" >361.940000</td>\n",
       "                        <td id=\"T_e751b978_770c_11ec_a760_9453308a0c5crow0_col3\" class=\"data row0 col3\" >$4.47</td>\n",
       "            </tr>\n",
       "            <tr>\n",
       "                        <th id=\"T_e751b978_770c_11ec_a760_9453308a0c5clevel0_row1\" class=\"row_heading level0 row1\" >Male</th>\n",
       "                        <td id=\"T_e751b978_770c_11ec_a760_9453308a0c5crow1_col0\" class=\"data row1 col0\" >652</td>\n",
       "                        <td id=\"T_e751b978_770c_11ec_a760_9453308a0c5crow1_col1\" class=\"data row1 col1\" >$3.02</td>\n",
       "                        <td id=\"T_e751b978_770c_11ec_a760_9453308a0c5crow1_col2\" class=\"data row1 col2\" >1967.640000</td>\n",
       "                        <td id=\"T_e751b978_770c_11ec_a760_9453308a0c5crow1_col3\" class=\"data row1 col3\" >$4.07</td>\n",
       "            </tr>\n",
       "            <tr>\n",
       "                        <th id=\"T_e751b978_770c_11ec_a760_9453308a0c5clevel0_row2\" class=\"row_heading level0 row2\" >Other / Non-Disclosed</th>\n",
       "                        <td id=\"T_e751b978_770c_11ec_a760_9453308a0c5crow2_col0\" class=\"data row2 col0\" >15</td>\n",
       "                        <td id=\"T_e751b978_770c_11ec_a760_9453308a0c5crow2_col1\" class=\"data row2 col1\" >$3.35</td>\n",
       "                        <td id=\"T_e751b978_770c_11ec_a760_9453308a0c5crow2_col2\" class=\"data row2 col2\" >50.190000</td>\n",
       "                        <td id=\"T_e751b978_770c_11ec_a760_9453308a0c5crow2_col3\" class=\"data row2 col3\" >$4.56</td>\n",
       "            </tr>\n",
       "    </tbody></table>"
      ],
      "text/plain": [
       "<pandas.io.formats.style.Styler at 0x1f999b56358>"
      ]
     },
     "execution_count": 38,
     "metadata": {},
     "output_type": "execute_result"
    }
   ],
   "source": [
    "#purchase analysis by gender\n",
    "#get count of total purchases by genders\n",
    "purchase_ct = gender_data[\"Purchase ID\"].count()\n",
    "##purchase_ct # just a check remove for production\n",
    "\n",
    "#Get average prices , total purchases, average purchase totals/person per gender (check each step by calling df but delete)\n",
    "avg_purchase = gender_data[\"Price\"].mean()\n",
    "avg_total = gender_data[\"Price\"].sum()\n",
    "avg_purchase_person=avg_total/gender_counts \n",
    "\n",
    "#create df with above\n",
    "gender_analysis= pd.DataFrame({\"Total Purchases\": purchase_ct, \"Average Price\": avg_purchase, \"Average Value\": avg_total,\n",
    "                               \"Average Per Person\": avg_purchase_person})\n",
    "##gender_analysis #first check remove and format\n",
    "gender_analysis.index.name =\"Gender\"\n",
    "gender_analysis.style.format({\"Average_Value\":\"${:,.2f}\", \"Average Price\":\"${:,.2f}\",\n",
    "                             \"Average Per Person\":\"${:,.2f}\"})\n",
    "\n",
    "\n"
   ]
  },
  {
   "cell_type": "markdown",
   "metadata": {},
   "source": [
    "## Age Demographics"
   ]
  },
  {
   "cell_type": "markdown",
   "metadata": {},
   "source": [
    "* Establish bins for ages\n",
    "\n",
    "\n",
    "* Categorize the existing players using the age bins. Hint: use pd.cut()\n",
    "\n",
    "\n",
    "* Calculate the numbers and percentages by age group\n",
    "\n",
    "\n",
    "* Create a summary data frame to hold the results\n",
    "\n",
    "\n",
    "* Optional: round the percentage column to two decimal points\n",
    "\n",
    "\n",
    "* Display Age Demographics Table\n"
   ]
  },
  {
   "cell_type": "code",
   "execution_count": 39,
   "metadata": {},
   "outputs": [
    {
     "name": "stdout",
     "output_type": "stream",
     "text": [
      "45\n",
      "7\n"
     ]
    }
   ],
   "source": [
    "#using to get low and highest age\n",
    "print(purchase_df[\"Age\"].max())\n",
    "print(purchase_df[\"Age\"].min())"
   ]
  },
  {
   "cell_type": "code",
   "execution_count": 40,
   "metadata": {},
   "outputs": [
    {
     "data": {
      "text/plain": [
       "0    20-24\n",
       "1      40+\n",
       "2    20-24\n",
       "3    20-24\n",
       "4    20-24\n",
       "Name: Age, dtype: category\n",
       "Categories (8, object): [<10 < 10-14 < 15-19 < 20-24 < 25-29 < 30-34 < 35-39 < 40+]"
      ]
     },
     "execution_count": 40,
     "metadata": {},
     "output_type": "execute_result"
    }
   ],
   "source": [
    "#create bins for ages\n",
    "bins = [0, 9.90, 14.90, 19.90, 24.90, 29.90, 34.90, 39.90, 99999]\n",
    "\n",
    "#create labels for age bins\n",
    "group_labels = [\"<10\", \"10-14\", \"15-19\", \"20-24\", \"25-29\", \"30-34\", \"35-39\", \"40+\"]\n",
    "\n",
    "#place data in bins #check data first - calculations and final summary below\n",
    "pd.cut(purchase_df[\"Age\"], bins, labels =group_labels).head()\n",
    "                "
   ]
  },
  {
   "cell_type": "code",
   "execution_count": 41,
   "metadata": {},
   "outputs": [
    {
     "data": {
      "text/html": [
       "<style  type=\"text/css\" >\n",
       "</style><table id=\"T_fda4cbba_770c_11ec_ab1e_9453308a0c5c\" ><thead>    <tr>        <th class=\"blank level0\" ></th>        <th class=\"col_heading level0 col0\" >Age Group Total</th>        <th class=\"col_heading level0 col1\" >Player Percentage by Age</th>    </tr>    <tr>        <th class=\"index_name level0\" >Age Ranges</th>        <th class=\"blank\" ></th>        <th class=\"blank\" ></th>    </tr></thead><tbody>\n",
       "                <tr>\n",
       "                        <th id=\"T_fda4cbba_770c_11ec_ab1e_9453308a0c5clevel0_row0\" class=\"row_heading level0 row0\" ><10</th>\n",
       "                        <td id=\"T_fda4cbba_770c_11ec_ab1e_9453308a0c5crow0_col0\" class=\"data row0 col0\" >17</td>\n",
       "                        <td id=\"T_fda4cbba_770c_11ec_ab1e_9453308a0c5crow0_col1\" class=\"data row0 col1\" >2.95%</td>\n",
       "            </tr>\n",
       "            <tr>\n",
       "                        <th id=\"T_fda4cbba_770c_11ec_ab1e_9453308a0c5clevel0_row1\" class=\"row_heading level0 row1\" >10-14</th>\n",
       "                        <td id=\"T_fda4cbba_770c_11ec_ab1e_9453308a0c5crow1_col0\" class=\"data row1 col0\" >22</td>\n",
       "                        <td id=\"T_fda4cbba_770c_11ec_ab1e_9453308a0c5crow1_col1\" class=\"data row1 col1\" >3.82%</td>\n",
       "            </tr>\n",
       "            <tr>\n",
       "                        <th id=\"T_fda4cbba_770c_11ec_ab1e_9453308a0c5clevel0_row2\" class=\"row_heading level0 row2\" >15-19</th>\n",
       "                        <td id=\"T_fda4cbba_770c_11ec_ab1e_9453308a0c5crow2_col0\" class=\"data row2 col0\" >107</td>\n",
       "                        <td id=\"T_fda4cbba_770c_11ec_ab1e_9453308a0c5crow2_col1\" class=\"data row2 col1\" >18.58%</td>\n",
       "            </tr>\n",
       "            <tr>\n",
       "                        <th id=\"T_fda4cbba_770c_11ec_ab1e_9453308a0c5clevel0_row3\" class=\"row_heading level0 row3\" >20-24</th>\n",
       "                        <td id=\"T_fda4cbba_770c_11ec_ab1e_9453308a0c5crow3_col0\" class=\"data row3 col0\" >258</td>\n",
       "                        <td id=\"T_fda4cbba_770c_11ec_ab1e_9453308a0c5crow3_col1\" class=\"data row3 col1\" >44.79%</td>\n",
       "            </tr>\n",
       "            <tr>\n",
       "                        <th id=\"T_fda4cbba_770c_11ec_ab1e_9453308a0c5clevel0_row4\" class=\"row_heading level0 row4\" >25-29</th>\n",
       "                        <td id=\"T_fda4cbba_770c_11ec_ab1e_9453308a0c5crow4_col0\" class=\"data row4 col0\" >77</td>\n",
       "                        <td id=\"T_fda4cbba_770c_11ec_ab1e_9453308a0c5crow4_col1\" class=\"data row4 col1\" >13.37%</td>\n",
       "            </tr>\n",
       "            <tr>\n",
       "                        <th id=\"T_fda4cbba_770c_11ec_ab1e_9453308a0c5clevel0_row5\" class=\"row_heading level0 row5\" >30-34</th>\n",
       "                        <td id=\"T_fda4cbba_770c_11ec_ab1e_9453308a0c5crow5_col0\" class=\"data row5 col0\" >52</td>\n",
       "                        <td id=\"T_fda4cbba_770c_11ec_ab1e_9453308a0c5crow5_col1\" class=\"data row5 col1\" >9.03%</td>\n",
       "            </tr>\n",
       "            <tr>\n",
       "                        <th id=\"T_fda4cbba_770c_11ec_ab1e_9453308a0c5clevel0_row6\" class=\"row_heading level0 row6\" >35-39</th>\n",
       "                        <td id=\"T_fda4cbba_770c_11ec_ab1e_9453308a0c5crow6_col0\" class=\"data row6 col0\" >31</td>\n",
       "                        <td id=\"T_fda4cbba_770c_11ec_ab1e_9453308a0c5crow6_col1\" class=\"data row6 col1\" >5.38%</td>\n",
       "            </tr>\n",
       "            <tr>\n",
       "                        <th id=\"T_fda4cbba_770c_11ec_ab1e_9453308a0c5clevel0_row7\" class=\"row_heading level0 row7\" >40+</th>\n",
       "                        <td id=\"T_fda4cbba_770c_11ec_ab1e_9453308a0c5crow7_col0\" class=\"data row7 col0\" >12</td>\n",
       "                        <td id=\"T_fda4cbba_770c_11ec_ab1e_9453308a0c5crow7_col1\" class=\"data row7 col1\" >2.08%</td>\n",
       "            </tr>\n",
       "    </tbody></table>"
      ],
      "text/plain": [
       "<pandas.io.formats.style.Styler at 0x1f996aa2978>"
      ]
     },
     "execution_count": 41,
     "metadata": {},
     "output_type": "execute_result"
    }
   ],
   "source": [
    "#add bins to dataframe\n",
    "purchase_df[\"Age Group\"] = pd.cut(purchase_df[\"Age\"], bins, labels =group_labels)\n",
    "purchase_df.head()\n",
    "\n",
    "#create groupby for Age group\n",
    "age_group = purchase_df.groupby(\"Age Group\")\n",
    "##age_group #check - remove for production\n",
    "\n",
    "#get totals\n",
    "age_count=age_group[\"SN\"].nunique()\n",
    "\n",
    "#age_count\n",
    "\n",
    "#-(printed for tracking removed for production)\n",
    "#age_count.sum()\n",
    "percentage=age_count/player_count*100\n",
    "#percentage\n",
    "#(used for check remove for production)\n",
    "#create df for above\n",
    "age_summary = pd.DataFrame({\"Age Group Total\": age_count,\"Player Percentage by Age\": percentage})\n",
    "\n",
    "\n",
    "#age_summary\n",
    "age_summary.index.name = \"Age Ranges\"\n",
    "age_summary.style.format({\"Player Percentage by Age\":\"{:,.2f}%\"})\n",
    "\n",
    "\n",
    "\n",
    "\n"
   ]
  },
  {
   "cell_type": "markdown",
   "metadata": {},
   "source": [
    "## Purchasing Analysis (Age)"
   ]
  },
  {
   "cell_type": "markdown",
   "metadata": {},
   "source": [
    "* Bin the purchase_data data frame by age\n",
    "\n",
    "\n",
    "* Run basic calculations to obtain purchase count, avg. purchase price, avg. purchase total per person etc. in the table below\n",
    "\n",
    "\n",
    "* Create a summary data frame to hold the results\n",
    "\n",
    "\n",
    "* Optional: give the displayed data cleaner formatting\n",
    "\n",
    "\n",
    "* Display the summary data frame"
   ]
  },
  {
   "cell_type": "code",
   "execution_count": 42,
   "metadata": {},
   "outputs": [
    {
     "data": {
      "text/html": [
       "<style  type=\"text/css\" >\n",
       "</style><table id=\"T_09e1cec8_770d_11ec_a1e6_9453308a0c5c\" ><thead>    <tr>        <th class=\"blank level0\" ></th>        <th class=\"col_heading level0 col0\" >Purchase Count</th>        <th class=\"col_heading level0 col1\" >Average Purchase</th>        <th class=\"col_heading level0 col2\" >Total Purchase</th>        <th class=\"col_heading level0 col3\" >Average Total Purchase by Person</th>    </tr>    <tr>        <th class=\"index_name level0\" >Age Ranges</th>        <th class=\"blank\" ></th>        <th class=\"blank\" ></th>        <th class=\"blank\" ></th>        <th class=\"blank\" ></th>    </tr></thead><tbody>\n",
       "                <tr>\n",
       "                        <th id=\"T_09e1cec8_770d_11ec_a1e6_9453308a0c5clevel0_row0\" class=\"row_heading level0 row0\" ><10</th>\n",
       "                        <td id=\"T_09e1cec8_770d_11ec_a1e6_9453308a0c5crow0_col0\" class=\"data row0 col0\" >23</td>\n",
       "                        <td id=\"T_09e1cec8_770d_11ec_a1e6_9453308a0c5crow0_col1\" class=\"data row0 col1\" >$3.35</td>\n",
       "                        <td id=\"T_09e1cec8_770d_11ec_a1e6_9453308a0c5crow0_col2\" class=\"data row0 col2\" >$77.13</td>\n",
       "                        <td id=\"T_09e1cec8_770d_11ec_a1e6_9453308a0c5crow0_col3\" class=\"data row0 col3\" >$4.54</td>\n",
       "            </tr>\n",
       "            <tr>\n",
       "                        <th id=\"T_09e1cec8_770d_11ec_a1e6_9453308a0c5clevel0_row1\" class=\"row_heading level0 row1\" >10-14</th>\n",
       "                        <td id=\"T_09e1cec8_770d_11ec_a1e6_9453308a0c5crow1_col0\" class=\"data row1 col0\" >28</td>\n",
       "                        <td id=\"T_09e1cec8_770d_11ec_a1e6_9453308a0c5crow1_col1\" class=\"data row1 col1\" >$2.96</td>\n",
       "                        <td id=\"T_09e1cec8_770d_11ec_a1e6_9453308a0c5crow1_col2\" class=\"data row1 col2\" >$82.78</td>\n",
       "                        <td id=\"T_09e1cec8_770d_11ec_a1e6_9453308a0c5crow1_col3\" class=\"data row1 col3\" >$3.76</td>\n",
       "            </tr>\n",
       "            <tr>\n",
       "                        <th id=\"T_09e1cec8_770d_11ec_a1e6_9453308a0c5clevel0_row2\" class=\"row_heading level0 row2\" >15-19</th>\n",
       "                        <td id=\"T_09e1cec8_770d_11ec_a1e6_9453308a0c5crow2_col0\" class=\"data row2 col0\" >136</td>\n",
       "                        <td id=\"T_09e1cec8_770d_11ec_a1e6_9453308a0c5crow2_col1\" class=\"data row2 col1\" >$3.04</td>\n",
       "                        <td id=\"T_09e1cec8_770d_11ec_a1e6_9453308a0c5crow2_col2\" class=\"data row2 col2\" >$412.89</td>\n",
       "                        <td id=\"T_09e1cec8_770d_11ec_a1e6_9453308a0c5crow2_col3\" class=\"data row2 col3\" >$3.86</td>\n",
       "            </tr>\n",
       "            <tr>\n",
       "                        <th id=\"T_09e1cec8_770d_11ec_a1e6_9453308a0c5clevel0_row3\" class=\"row_heading level0 row3\" >20-24</th>\n",
       "                        <td id=\"T_09e1cec8_770d_11ec_a1e6_9453308a0c5crow3_col0\" class=\"data row3 col0\" >365</td>\n",
       "                        <td id=\"T_09e1cec8_770d_11ec_a1e6_9453308a0c5crow3_col1\" class=\"data row3 col1\" >$3.05</td>\n",
       "                        <td id=\"T_09e1cec8_770d_11ec_a1e6_9453308a0c5crow3_col2\" class=\"data row3 col2\" >$1,114.06</td>\n",
       "                        <td id=\"T_09e1cec8_770d_11ec_a1e6_9453308a0c5crow3_col3\" class=\"data row3 col3\" >$4.32</td>\n",
       "            </tr>\n",
       "            <tr>\n",
       "                        <th id=\"T_09e1cec8_770d_11ec_a1e6_9453308a0c5clevel0_row4\" class=\"row_heading level0 row4\" >25-29</th>\n",
       "                        <td id=\"T_09e1cec8_770d_11ec_a1e6_9453308a0c5crow4_col0\" class=\"data row4 col0\" >101</td>\n",
       "                        <td id=\"T_09e1cec8_770d_11ec_a1e6_9453308a0c5crow4_col1\" class=\"data row4 col1\" >$2.90</td>\n",
       "                        <td id=\"T_09e1cec8_770d_11ec_a1e6_9453308a0c5crow4_col2\" class=\"data row4 col2\" >$293.00</td>\n",
       "                        <td id=\"T_09e1cec8_770d_11ec_a1e6_9453308a0c5crow4_col3\" class=\"data row4 col3\" >$3.81</td>\n",
       "            </tr>\n",
       "            <tr>\n",
       "                        <th id=\"T_09e1cec8_770d_11ec_a1e6_9453308a0c5clevel0_row5\" class=\"row_heading level0 row5\" >30-34</th>\n",
       "                        <td id=\"T_09e1cec8_770d_11ec_a1e6_9453308a0c5crow5_col0\" class=\"data row5 col0\" >73</td>\n",
       "                        <td id=\"T_09e1cec8_770d_11ec_a1e6_9453308a0c5crow5_col1\" class=\"data row5 col1\" >$2.93</td>\n",
       "                        <td id=\"T_09e1cec8_770d_11ec_a1e6_9453308a0c5crow5_col2\" class=\"data row5 col2\" >$214.00</td>\n",
       "                        <td id=\"T_09e1cec8_770d_11ec_a1e6_9453308a0c5crow5_col3\" class=\"data row5 col3\" >$4.12</td>\n",
       "            </tr>\n",
       "            <tr>\n",
       "                        <th id=\"T_09e1cec8_770d_11ec_a1e6_9453308a0c5clevel0_row6\" class=\"row_heading level0 row6\" >35-39</th>\n",
       "                        <td id=\"T_09e1cec8_770d_11ec_a1e6_9453308a0c5crow6_col0\" class=\"data row6 col0\" >41</td>\n",
       "                        <td id=\"T_09e1cec8_770d_11ec_a1e6_9453308a0c5crow6_col1\" class=\"data row6 col1\" >$3.60</td>\n",
       "                        <td id=\"T_09e1cec8_770d_11ec_a1e6_9453308a0c5crow6_col2\" class=\"data row6 col2\" >$147.67</td>\n",
       "                        <td id=\"T_09e1cec8_770d_11ec_a1e6_9453308a0c5crow6_col3\" class=\"data row6 col3\" >$4.76</td>\n",
       "            </tr>\n",
       "            <tr>\n",
       "                        <th id=\"T_09e1cec8_770d_11ec_a1e6_9453308a0c5clevel0_row7\" class=\"row_heading level0 row7\" >40+</th>\n",
       "                        <td id=\"T_09e1cec8_770d_11ec_a1e6_9453308a0c5crow7_col0\" class=\"data row7 col0\" >13</td>\n",
       "                        <td id=\"T_09e1cec8_770d_11ec_a1e6_9453308a0c5crow7_col1\" class=\"data row7 col1\" >$2.94</td>\n",
       "                        <td id=\"T_09e1cec8_770d_11ec_a1e6_9453308a0c5crow7_col2\" class=\"data row7 col2\" >$38.24</td>\n",
       "                        <td id=\"T_09e1cec8_770d_11ec_a1e6_9453308a0c5crow7_col3\" class=\"data row7 col3\" >$3.19</td>\n",
       "            </tr>\n",
       "    </tbody></table>"
      ],
      "text/plain": [
       "<pandas.io.formats.style.Styler at 0x1f999b59128>"
      ]
     },
     "execution_count": 42,
     "metadata": {},
     "output_type": "execute_result"
    }
   ],
   "source": [
    "#get purchases by age group\n",
    "purchases_age = age_group[\"Purchase ID\"].count()\n",
    "#average price per age\n",
    "avg_price_age = age_group[\"Price\"].mean()\n",
    "#calculations\n",
    "total_purchase_value = age_group[\"Price\"].sum()\n",
    "avg_per_person_by_age = total_purchase_value/age_count\n",
    "\n",
    "#create df with above\n",
    "purchasing_analysis=pd.DataFrame({\"Purchase Count\": purchases_age, \"Average Purchase\": avg_price_age,\n",
    "                                 \"Total Purchase\": total_purchase_value, \n",
    "                                  \"Average Total Purchase by Person\": avg_per_person_by_age})\n",
    "#purchasing_analysis  #first check before formatting\n",
    "purchasing_analysis.index.name =\"Age Ranges\"\n",
    "purchasing_analysis.style.format({\"Average Purchase\":\"${:,.2f}\",\n",
    "                                 \"Total Purchase\":\"${:,.2f}\",\n",
    "                                 \"Average Total Purchase by Person\":\"${:,.2f}\",})\n",
    "\n"
   ]
  },
  {
   "cell_type": "markdown",
   "metadata": {},
   "source": [
    "## Top Spenders"
   ]
  },
  {
   "cell_type": "markdown",
   "metadata": {},
   "source": [
    "* Run basic calculations to obtain the results in the table below\n",
    "\n",
    "\n",
    "* Create a summary data frame to hold the results\n",
    "\n",
    "\n",
    "* Sort the total purchase value column in descending order\n",
    "\n",
    "\n",
    "* Optional: give the displayed data cleaner formatting\n",
    "\n",
    "\n",
    "* Display a preview of the summary data frame\n",
    "\n"
   ]
  },
  {
   "cell_type": "code",
   "execution_count": 43,
   "metadata": {},
   "outputs": [
    {
     "data": {
      "text/html": [
       "<style  type=\"text/css\" >\n",
       "</style><table id=\"T_13ef6bfe_770d_11ec_9cb8_9453308a0c5c\" ><thead>    <tr>        <th class=\"blank level0\" ></th>        <th class=\"col_heading level0 col0\" >Purchase Count</th>        <th class=\"col_heading level0 col1\" >Average Purchase Price</th>        <th class=\"col_heading level0 col2\" >Total Purchases</th>    </tr>    <tr>        <th class=\"index_name level0\" >SN</th>        <th class=\"blank\" ></th>        <th class=\"blank\" ></th>        <th class=\"blank\" ></th>    </tr></thead><tbody>\n",
       "                <tr>\n",
       "                        <th id=\"T_13ef6bfe_770d_11ec_9cb8_9453308a0c5clevel0_row0\" class=\"row_heading level0 row0\" >Lisosia93</th>\n",
       "                        <td id=\"T_13ef6bfe_770d_11ec_9cb8_9453308a0c5crow0_col0\" class=\"data row0 col0\" >5</td>\n",
       "                        <td id=\"T_13ef6bfe_770d_11ec_9cb8_9453308a0c5crow0_col1\" class=\"data row0 col1\" >$3.79</td>\n",
       "                        <td id=\"T_13ef6bfe_770d_11ec_9cb8_9453308a0c5crow0_col2\" class=\"data row0 col2\" >$18.96</td>\n",
       "            </tr>\n",
       "            <tr>\n",
       "                        <th id=\"T_13ef6bfe_770d_11ec_9cb8_9453308a0c5clevel0_row1\" class=\"row_heading level0 row1\" >Idastidru52</th>\n",
       "                        <td id=\"T_13ef6bfe_770d_11ec_9cb8_9453308a0c5crow1_col0\" class=\"data row1 col0\" >4</td>\n",
       "                        <td id=\"T_13ef6bfe_770d_11ec_9cb8_9453308a0c5crow1_col1\" class=\"data row1 col1\" >$3.86</td>\n",
       "                        <td id=\"T_13ef6bfe_770d_11ec_9cb8_9453308a0c5crow1_col2\" class=\"data row1 col2\" >$15.45</td>\n",
       "            </tr>\n",
       "            <tr>\n",
       "                        <th id=\"T_13ef6bfe_770d_11ec_9cb8_9453308a0c5clevel0_row2\" class=\"row_heading level0 row2\" >Chamjask73</th>\n",
       "                        <td id=\"T_13ef6bfe_770d_11ec_9cb8_9453308a0c5crow2_col0\" class=\"data row2 col0\" >3</td>\n",
       "                        <td id=\"T_13ef6bfe_770d_11ec_9cb8_9453308a0c5crow2_col1\" class=\"data row2 col1\" >$4.61</td>\n",
       "                        <td id=\"T_13ef6bfe_770d_11ec_9cb8_9453308a0c5crow2_col2\" class=\"data row2 col2\" >$13.83</td>\n",
       "            </tr>\n",
       "            <tr>\n",
       "                        <th id=\"T_13ef6bfe_770d_11ec_9cb8_9453308a0c5clevel0_row3\" class=\"row_heading level0 row3\" >Iral74</th>\n",
       "                        <td id=\"T_13ef6bfe_770d_11ec_9cb8_9453308a0c5crow3_col0\" class=\"data row3 col0\" >4</td>\n",
       "                        <td id=\"T_13ef6bfe_770d_11ec_9cb8_9453308a0c5crow3_col1\" class=\"data row3 col1\" >$3.40</td>\n",
       "                        <td id=\"T_13ef6bfe_770d_11ec_9cb8_9453308a0c5crow3_col2\" class=\"data row3 col2\" >$13.62</td>\n",
       "            </tr>\n",
       "            <tr>\n",
       "                        <th id=\"T_13ef6bfe_770d_11ec_9cb8_9453308a0c5clevel0_row4\" class=\"row_heading level0 row4\" >Iskadarya95</th>\n",
       "                        <td id=\"T_13ef6bfe_770d_11ec_9cb8_9453308a0c5crow4_col0\" class=\"data row4 col0\" >3</td>\n",
       "                        <td id=\"T_13ef6bfe_770d_11ec_9cb8_9453308a0c5crow4_col1\" class=\"data row4 col1\" >$4.37</td>\n",
       "                        <td id=\"T_13ef6bfe_770d_11ec_9cb8_9453308a0c5crow4_col2\" class=\"data row4 col2\" >$13.10</td>\n",
       "            </tr>\n",
       "    </tbody></table>"
      ],
      "text/plain": [
       "<pandas.io.formats.style.Styler at 0x1f998ba2b70>"
      ]
     },
     "execution_count": 43,
     "metadata": {},
     "output_type": "execute_result"
    }
   ],
   "source": [
    "#Group purchases by SN\n",
    "spenders = purchase_df.groupby(\"SN\")\n",
    "# total purchases by name\n",
    "purchase_count = spenders[\"Purchase ID\"].count()\n",
    "#calculations\n",
    "avg_purchase_sn = spenders[\"Price\"].mean()\n",
    "##avg_purchase_sn #checkpoint - remove for production\n",
    "\n",
    "purchase_total_sn=spenders[\"Price\"].sum()\n",
    "##purchase_total_sn  #checkpoint -remove for production\n",
    "\n",
    "#create df with above \n",
    "top_spenders_analysis = pd.DataFrame({\"Purchase Count\": purchase_count, \"Average Purchase Price\": avg_purchase_sn,\n",
    "                                     \"Total Purchases\": purchase_total_sn})\n",
    "##top_spenders_analysis #first check analysis remove for production\n",
    "\n",
    "#formatting and sorting \n",
    "top_spenders_analysis_final = top_spenders_analysis.sort_values([\"Total Purchases\"], ascending=False).head()\n",
    "top_spenders_analysis_final.style.format({\"Total Purchases\":\"${:,.2f}\", \"Average Purchase Price\":\"${:,.2f}\"})"
   ]
  },
  {
   "cell_type": "markdown",
   "metadata": {},
   "source": [
    "## Most Popular Items"
   ]
  },
  {
   "cell_type": "markdown",
   "metadata": {},
   "source": [
    "* Retrieve the Item ID, Item Name, and Item Price columns\n",
    "\n",
    "\n",
    "* Group by Item ID and Item Name. Perform calculations to obtain purchase count, average item price, and total purchase value\n",
    "\n",
    "\n",
    "* Create a summary data frame to hold the results\n",
    "\n",
    "\n",
    "* Sort the purchase count column in descending order\n",
    "\n",
    "\n",
    "* Optional: give the displayed data cleaner formatting\n",
    "\n",
    "\n",
    "* Display a preview of the summary data frame\n",
    "\n"
   ]
  },
  {
   "cell_type": "code",
   "execution_count": 44,
   "metadata": {},
   "outputs": [
    {
     "data": {
      "text/html": [
       "<style  type=\"text/css\" >\n",
       "</style><table id=\"T_1e48e6ca_770d_11ec_a0d0_9453308a0c5c\" ><thead>    <tr>        <th class=\"blank\" ></th>        <th class=\"blank level0\" ></th>        <th class=\"col_heading level0 col0\" >Purchase Count</th>        <th class=\"col_heading level0 col1\" >Item Price</th>        <th class=\"col_heading level0 col2\" >Total Purchase Values</th>    </tr>    <tr>        <th class=\"index_name level0\" >Item ID</th>        <th class=\"index_name level1\" >Item Name</th>        <th class=\"blank\" ></th>        <th class=\"blank\" ></th>        <th class=\"blank\" ></th>    </tr></thead><tbody>\n",
       "                <tr>\n",
       "                        <th id=\"T_1e48e6ca_770d_11ec_a0d0_9453308a0c5clevel0_row0\" class=\"row_heading level0 row0\" >92</th>\n",
       "                        <th id=\"T_1e48e6ca_770d_11ec_a0d0_9453308a0c5clevel1_row0\" class=\"row_heading level1 row0\" >Final Critic</th>\n",
       "                        <td id=\"T_1e48e6ca_770d_11ec_a0d0_9453308a0c5crow0_col0\" class=\"data row0 col0\" >13</td>\n",
       "                        <td id=\"T_1e48e6ca_770d_11ec_a0d0_9453308a0c5crow0_col1\" class=\"data row0 col1\" >$4.61</td>\n",
       "                        <td id=\"T_1e48e6ca_770d_11ec_a0d0_9453308a0c5crow0_col2\" class=\"data row0 col2\" >$59.99</td>\n",
       "            </tr>\n",
       "            <tr>\n",
       "                        <th id=\"T_1e48e6ca_770d_11ec_a0d0_9453308a0c5clevel0_row1\" class=\"row_heading level0 row1\" >178</th>\n",
       "                        <th id=\"T_1e48e6ca_770d_11ec_a0d0_9453308a0c5clevel1_row1\" class=\"row_heading level1 row1\" >Oathbreaker, Last Hope of the Breaking Storm</th>\n",
       "                        <td id=\"T_1e48e6ca_770d_11ec_a0d0_9453308a0c5crow1_col0\" class=\"data row1 col0\" >12</td>\n",
       "                        <td id=\"T_1e48e6ca_770d_11ec_a0d0_9453308a0c5crow1_col1\" class=\"data row1 col1\" >$4.23</td>\n",
       "                        <td id=\"T_1e48e6ca_770d_11ec_a0d0_9453308a0c5crow1_col2\" class=\"data row1 col2\" >$50.76</td>\n",
       "            </tr>\n",
       "            <tr>\n",
       "                        <th id=\"T_1e48e6ca_770d_11ec_a0d0_9453308a0c5clevel0_row2\" class=\"row_heading level0 row2\" >145</th>\n",
       "                        <th id=\"T_1e48e6ca_770d_11ec_a0d0_9453308a0c5clevel1_row2\" class=\"row_heading level1 row2\" >Fiery Glass Crusader</th>\n",
       "                        <td id=\"T_1e48e6ca_770d_11ec_a0d0_9453308a0c5crow2_col0\" class=\"data row2 col0\" >9</td>\n",
       "                        <td id=\"T_1e48e6ca_770d_11ec_a0d0_9453308a0c5crow2_col1\" class=\"data row2 col1\" >$4.58</td>\n",
       "                        <td id=\"T_1e48e6ca_770d_11ec_a0d0_9453308a0c5crow2_col2\" class=\"data row2 col2\" >$41.22</td>\n",
       "            </tr>\n",
       "            <tr>\n",
       "                        <th id=\"T_1e48e6ca_770d_11ec_a0d0_9453308a0c5clevel0_row3\" class=\"row_heading level0 row3\" >132</th>\n",
       "                        <th id=\"T_1e48e6ca_770d_11ec_a0d0_9453308a0c5clevel1_row3\" class=\"row_heading level1 row3\" >Persuasion</th>\n",
       "                        <td id=\"T_1e48e6ca_770d_11ec_a0d0_9453308a0c5crow3_col0\" class=\"data row3 col0\" >9</td>\n",
       "                        <td id=\"T_1e48e6ca_770d_11ec_a0d0_9453308a0c5crow3_col1\" class=\"data row3 col1\" >$3.22</td>\n",
       "                        <td id=\"T_1e48e6ca_770d_11ec_a0d0_9453308a0c5crow3_col2\" class=\"data row3 col2\" >$28.99</td>\n",
       "            </tr>\n",
       "            <tr>\n",
       "                        <th id=\"T_1e48e6ca_770d_11ec_a0d0_9453308a0c5clevel0_row4\" class=\"row_heading level0 row4\" >108</th>\n",
       "                        <th id=\"T_1e48e6ca_770d_11ec_a0d0_9453308a0c5clevel1_row4\" class=\"row_heading level1 row4\" >Extraction, Quickblade Of Trembling Hands</th>\n",
       "                        <td id=\"T_1e48e6ca_770d_11ec_a0d0_9453308a0c5crow4_col0\" class=\"data row4 col0\" >9</td>\n",
       "                        <td id=\"T_1e48e6ca_770d_11ec_a0d0_9453308a0c5crow4_col1\" class=\"data row4 col1\" >$3.53</td>\n",
       "                        <td id=\"T_1e48e6ca_770d_11ec_a0d0_9453308a0c5crow4_col2\" class=\"data row4 col2\" >$31.77</td>\n",
       "            </tr>\n",
       "    </tbody></table>"
      ],
      "text/plain": [
       "<pandas.io.formats.style.Styler at 0x1f999c61f98>"
      ]
     },
     "execution_count": 44,
     "metadata": {},
     "output_type": "execute_result"
    }
   ],
   "source": [
    "#most popular items df\n",
    "popular_items = purchase_df[[\"Item ID\", \"Item Name\", \"Price\"]]\n",
    "##popular_items # checkpoint -remove for production\n",
    "\n",
    "#items groupby\n",
    "item_group = popular_items.groupby([\"Item ID\", \"Item Name\"]) \n",
    "\n",
    "#calculations\n",
    "count_items = item_group[\"Price\"].count()\n",
    "purchase_values = item_group[\"Price\"].sum()\n",
    "item_price = purchase_values/count_items\n",
    "##item_price  #checkpoint - remove for production\n",
    "\n",
    "#create df with above\n",
    "most_popular = pd.DataFrame({\"Purchase Count\": count_items, \"Item Price\": item_price,\n",
    "                            \"Total Purchase Values\": purchase_values})\n",
    "##most_popular  #checkpoint -remove for production\n",
    "\n",
    "#formatting and sorting \n",
    "most_popular_analysis = most_popular.sort_values([\"Purchase Count\"], ascending=False).head()\n",
    "##most_popular_analysis # checkpoint -remove for production\n",
    "most_popular_analysis.style.format({\"Item Price\":\"${:,.2f}\", \"Total Purchase Values\":\"${:,.2f}\",})\n",
    "\n"
   ]
  },
  {
   "cell_type": "markdown",
   "metadata": {},
   "source": [
    "## Most Profitable Items"
   ]
  },
  {
   "cell_type": "markdown",
   "metadata": {},
   "source": [
    "* Sort the above table by total purchase value in descending order\n",
    "\n",
    "\n",
    "* Optional: give the displayed data cleaner formatting\n",
    "\n",
    "\n",
    "* Display a preview of the data frame\n",
    "\n"
   ]
  },
  {
   "cell_type": "code",
   "execution_count": 45,
   "metadata": {
    "scrolled": true
   },
   "outputs": [
    {
     "data": {
      "text/html": [
       "<style  type=\"text/css\" >\n",
       "</style><table id=\"T_249e0d68_770d_11ec_bcd9_9453308a0c5c\" ><thead>    <tr>        <th class=\"blank\" ></th>        <th class=\"blank level0\" ></th>        <th class=\"col_heading level0 col0\" >Purchase Count</th>        <th class=\"col_heading level0 col1\" >Item Price</th>        <th class=\"col_heading level0 col2\" >Total Purchase Values</th>    </tr>    <tr>        <th class=\"index_name level0\" >Item ID</th>        <th class=\"index_name level1\" >Item Name</th>        <th class=\"blank\" ></th>        <th class=\"blank\" ></th>        <th class=\"blank\" ></th>    </tr></thead><tbody>\n",
       "                <tr>\n",
       "                        <th id=\"T_249e0d68_770d_11ec_bcd9_9453308a0c5clevel0_row0\" class=\"row_heading level0 row0\" >92</th>\n",
       "                        <th id=\"T_249e0d68_770d_11ec_bcd9_9453308a0c5clevel1_row0\" class=\"row_heading level1 row0\" >Final Critic</th>\n",
       "                        <td id=\"T_249e0d68_770d_11ec_bcd9_9453308a0c5crow0_col0\" class=\"data row0 col0\" >13</td>\n",
       "                        <td id=\"T_249e0d68_770d_11ec_bcd9_9453308a0c5crow0_col1\" class=\"data row0 col1\" >$4.61</td>\n",
       "                        <td id=\"T_249e0d68_770d_11ec_bcd9_9453308a0c5crow0_col2\" class=\"data row0 col2\" >$59.99</td>\n",
       "            </tr>\n",
       "            <tr>\n",
       "                        <th id=\"T_249e0d68_770d_11ec_bcd9_9453308a0c5clevel0_row1\" class=\"row_heading level0 row1\" >178</th>\n",
       "                        <th id=\"T_249e0d68_770d_11ec_bcd9_9453308a0c5clevel1_row1\" class=\"row_heading level1 row1\" >Oathbreaker, Last Hope of the Breaking Storm</th>\n",
       "                        <td id=\"T_249e0d68_770d_11ec_bcd9_9453308a0c5crow1_col0\" class=\"data row1 col0\" >12</td>\n",
       "                        <td id=\"T_249e0d68_770d_11ec_bcd9_9453308a0c5crow1_col1\" class=\"data row1 col1\" >$4.23</td>\n",
       "                        <td id=\"T_249e0d68_770d_11ec_bcd9_9453308a0c5crow1_col2\" class=\"data row1 col2\" >$50.76</td>\n",
       "            </tr>\n",
       "            <tr>\n",
       "                        <th id=\"T_249e0d68_770d_11ec_bcd9_9453308a0c5clevel0_row2\" class=\"row_heading level0 row2\" >82</th>\n",
       "                        <th id=\"T_249e0d68_770d_11ec_bcd9_9453308a0c5clevel1_row2\" class=\"row_heading level1 row2\" >Nirvana</th>\n",
       "                        <td id=\"T_249e0d68_770d_11ec_bcd9_9453308a0c5crow2_col0\" class=\"data row2 col0\" >9</td>\n",
       "                        <td id=\"T_249e0d68_770d_11ec_bcd9_9453308a0c5crow2_col1\" class=\"data row2 col1\" >$4.90</td>\n",
       "                        <td id=\"T_249e0d68_770d_11ec_bcd9_9453308a0c5crow2_col2\" class=\"data row2 col2\" >$44.10</td>\n",
       "            </tr>\n",
       "            <tr>\n",
       "                        <th id=\"T_249e0d68_770d_11ec_bcd9_9453308a0c5clevel0_row3\" class=\"row_heading level0 row3\" >145</th>\n",
       "                        <th id=\"T_249e0d68_770d_11ec_bcd9_9453308a0c5clevel1_row3\" class=\"row_heading level1 row3\" >Fiery Glass Crusader</th>\n",
       "                        <td id=\"T_249e0d68_770d_11ec_bcd9_9453308a0c5crow3_col0\" class=\"data row3 col0\" >9</td>\n",
       "                        <td id=\"T_249e0d68_770d_11ec_bcd9_9453308a0c5crow3_col1\" class=\"data row3 col1\" >$4.58</td>\n",
       "                        <td id=\"T_249e0d68_770d_11ec_bcd9_9453308a0c5crow3_col2\" class=\"data row3 col2\" >$41.22</td>\n",
       "            </tr>\n",
       "            <tr>\n",
       "                        <th id=\"T_249e0d68_770d_11ec_bcd9_9453308a0c5clevel0_row4\" class=\"row_heading level0 row4\" >103</th>\n",
       "                        <th id=\"T_249e0d68_770d_11ec_bcd9_9453308a0c5clevel1_row4\" class=\"row_heading level1 row4\" >Singed Scalpel</th>\n",
       "                        <td id=\"T_249e0d68_770d_11ec_bcd9_9453308a0c5crow4_col0\" class=\"data row4 col0\" >8</td>\n",
       "                        <td id=\"T_249e0d68_770d_11ec_bcd9_9453308a0c5crow4_col1\" class=\"data row4 col1\" >$4.35</td>\n",
       "                        <td id=\"T_249e0d68_770d_11ec_bcd9_9453308a0c5crow4_col2\" class=\"data row4 col2\" >$34.80</td>\n",
       "            </tr>\n",
       "    </tbody></table>"
      ],
      "text/plain": [
       "<pandas.io.formats.style.Styler at 0x1f999c930f0>"
      ]
     },
     "execution_count": 45,
     "metadata": {},
     "output_type": "execute_result"
    }
   ],
   "source": [
    "# dataframe for Most Profitable Items sorted with preveiw\n",
    "most_profitable_analysis = most_popular.sort_values([\"Total Purchase Values\"], ascending=False).head()\n",
    "#formating\n",
    "most_profitable_analysis.style.format({\"Item Price\":\"${:,.2f}\", \"Total Purchase Values\":\"${:,.2f}\"})"
   ]
  }
 ],
 "metadata": {
  "anaconda-cloud": {},
  "kernel_info": {
   "name": "python3"
  },
  "kernelspec": {
   "display_name": "Python 3",
   "language": "python",
   "name": "python3"
  },
  "language_info": {
   "codemirror_mode": {
    "name": "ipython",
    "version": 3
   },
   "file_extension": ".py",
   "mimetype": "text/x-python",
   "name": "python",
   "nbconvert_exporter": "python",
   "pygments_lexer": "ipython3",
   "version": "3.6.10"
  },
  "latex_envs": {
   "LaTeX_envs_menu_present": true,
   "autoclose": false,
   "autocomplete": true,
   "bibliofile": "biblio.bib",
   "cite_by": "apalike",
   "current_citInitial": 1,
   "eqLabelWithNumbers": true,
   "eqNumInitial": 1,
   "hotkeys": {
    "equation": "Ctrl-E",
    "itemize": "Ctrl-I"
   },
   "labels_anchors": false,
   "latex_user_defs": false,
   "report_style_numbering": false,
   "user_envs_cfg": false
  },
  "nteract": {
   "version": "0.2.0"
  }
 },
 "nbformat": 4,
 "nbformat_minor": 2
}
